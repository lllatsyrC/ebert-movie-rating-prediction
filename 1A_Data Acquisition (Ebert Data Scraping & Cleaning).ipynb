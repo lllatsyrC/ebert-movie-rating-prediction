{
 "cells": [
  {
   "cell_type": "markdown",
   "id": "strange-hierarchy",
   "metadata": {},
   "source": [
    "This Regression project workflow are broken into 3 parts:<br>\n",
    "1: Web-scraping & Data Cleaning<br>\n",
    "                - Ebert Data <br>\n",
    "                - More Data <br>\n",
    "2: EDA & Feature Engineering & Selection<br>\n",
    "3: Modeling Training and Testing <br>\n",
    "<br>\n",
    "## Contents:\n",
    "1. Data Scraping of Ebert Data\n",
    "2. Data Cleaning of Ebert Data"
   ]
  },
  {
   "cell_type": "markdown",
   "id": "voluntary-volume",
   "metadata": {},
   "source": [
    "# 1. Data Scraping\n",
    "This notebook include the data scraping process for the project, leveraging BeautifulSoup and selenium."
   ]
  },
  {
   "cell_type": "code",
   "execution_count": 1,
   "id": "transsexual-avenue",
   "metadata": {},
   "outputs": [],
   "source": [
    "import pandas as pd\n",
    "import numpy as np\n",
    "from bs4 import BeautifulSoup as bs\n",
    "import requests\n",
    "import time, os\n",
    "import pickle\n",
    "import re\n",
    "from selenium import webdriver\n",
    "from selenium.webdriver.common.keys import Keys\n",
    "from selenium.webdriver.support.ui import Select"
   ]
  },
  {
   "cell_type": "code",
   "execution_count": 2,
   "id": "soviet-punch",
   "metadata": {},
   "outputs": [],
   "source": [
    "chromedriver = \"/Applications/chromedriver\"\n",
    "os.environ[\"webdriver.chrome.driver\"] = chromedriver\n",
    "driver = webdriver.Chrome(chromedriver)\n",
    "source = 'https://www.rogerebert.com/reviews'\n",
    "driver.get(source)"
   ]
  },
  {
   "cell_type": "code",
   "execution_count": 3,
   "id": "hydraulic-regard",
   "metadata": {},
   "outputs": [],
   "source": [
    "# Use Selenium to filter reviews by Roger Ebert\n",
    "reviewers_box = driver.find_element_by_xpath('//*[@id=\"filters\"]/div[3]/div[1]/div[2]/div[1]/input')\n",
    "reviewers_box.click()\n",
    "\n",
    "# Enter Roger Ebert\n",
    "reviewers_box.send_keys(\"Roger Ebert\")\n",
    "reviewers_box.send_keys(Keys.RETURN)\n",
    "\n",
    "# Uncheck \"include non-rated movies\"\n",
    "check_box = driver.find_element_by_id('filters_no_stars')\n",
    "check_box.click()"
   ]
  },
  {
   "cell_type": "code",
   "execution_count": 13,
   "id": "convertible-festival",
   "metadata": {},
   "outputs": [],
   "source": [
    "# Scroll down to get all the movies\n",
    "\n",
    "# Set pause time\n",
    "SCROLL_PAUSE_TIME = 2.5\n",
    "\n",
    "# Get scroll height\n",
    "last_height = driver.execute_script(\"return document.documentElement.scrollHeight\")\n",
    "\n",
    "while True:\n",
    "    # Scroll down to close-to-bottom\n",
    "    driver.execute_script(\"window.scrollTo(0, document.documentElement.scrollHeight-1750);\")\n",
    "    \n",
    "    #Wait for page to load\n",
    "    time.sleep(SCROLL_PAUSE_TIME)\n",
    "    \n",
    "    # Calculate new scroll height and compare with last scroll height\n",
    "    new_height = driver.execute_script(\"return document.documentElement.scrollHeight\")\n",
    "    if new_height == last_height:\n",
    "        break\n",
    "    last_height = new_height\n",
    "\n",
    "#This will take awhile"
   ]
  },
  {
   "cell_type": "code",
   "execution_count": 14,
   "id": "secondary-basket",
   "metadata": {},
   "outputs": [
    {
     "data": {
      "text/plain": [
       "7847"
      ]
     },
     "execution_count": 14,
     "metadata": {},
     "output_type": "execute_result"
    }
   ],
   "source": [
    "# read HTML content with bs4\n",
    "soup = bs(driver.page_source, 'html.parser')\n",
    "contents_div = soup.find('div', class_='columns is-multiline is-mobile js--reviews--target')\n",
    "# check amount of movie reviews\n",
    "len(contents_div.find_all('div', class_='review-stack'))"
   ]
  },
  {
   "cell_type": "code",
   "execution_count": 15,
   "id": "champion-wrong",
   "metadata": {},
   "outputs": [],
   "source": [
    "driver.quit()"
   ]
  },
  {
   "cell_type": "code",
   "execution_count": 16,
   "id": "positive-lobby",
   "metadata": {},
   "outputs": [],
   "source": [
    "# helper function to get star rating\n",
    "def star_rating_conversion(stars):\n",
    "    rating_conversion = {\n",
    "        'star-full': 1,\n",
    "        'star-half': 0.5,\n",
    "        'thumbsdown': 0\n",
    "    }\n",
    "    \n",
    "    numeric_rating = []\n",
    "    for star in stars:\n",
    "        numeric_rating.append(rating_conversion[star])\n",
    "    \n",
    "    return sum(numeric_rating)"
   ]
  },
  {
   "cell_type": "code",
   "execution_count": 17,
   "id": "exterior-message",
   "metadata": {},
   "outputs": [],
   "source": [
    "# Scrap movie info from film page\n",
    "def get_movie_info(url):\n",
    "    \n",
    "    r = requests.get(url)\n",
    "    s = bs(r.content, 'html5lib')\n",
    "    movie_detail = s.find('div', class_=\"columns is-centered is-mobile\")\n",
    "\n",
    "    movie_info = {}\n",
    "    # title, year\n",
    "    title_year = movie_detail.find('h3').get_text(\"\\n\",strip=True).replace(\")\", \"\").split(' (')\n",
    "    try:\n",
    "        movie_info['TITLE'] = title_year[0]\n",
    "        movie_info['YEAR'] = int(title_year[1])\n",
    "    except:\n",
    "        movie_info['TITLE'] = title_year[0] + '(' + title_year[1] + ')'\n",
    "        movie_info['YEAR'] = int(title_year[2])\n",
    "\n",
    "    # star rating\n",
    "    star_rating = movie_detail.find('span', class_='star-rating').findChildren()\n",
    "    stars = [rate['title'] for rate in star_rating]\n",
    "\n",
    "    # numeric rating\n",
    "    movie_info['EBERT_RATING'] = star_rating_conversion(stars)\n",
    "\n",
    "    # MPAA rating\n",
    "    try:\n",
    "        movie_info['MPAA'] = movie_detail.find('p', class_=re.compile('mpaa-rating')).find('meta')['content']\n",
    "    except:\n",
    "        movie_info['MPAA'] = ''\n",
    "\n",
    "    # runtime\n",
    "    try:\n",
    "        movie_info['RUNTIME'] = movie_detail.find('p', class_=re.compile('running')).get_text('\\n',strip=True)\n",
    "    except:\n",
    "        movie_info['RUNTIME'] = ''\n",
    "    \n",
    "    # genre and sub-genre\n",
    "    genre_tag = s.find('nav', class_='tags')\n",
    "    genre_list = []\n",
    "    for tag in genre_tag.find_all('a'):\n",
    "        genre_list.append(tag.text)\n",
    "    if len(genre_list) > 1:\n",
    "        movie_info['GENRE'] = genre_list[0]\n",
    "        movie_info['sub-genre'] = genre_list[1:]\n",
    "    elif len(genre_list) ==1:\n",
    "        movie_info['GENRE'] = genre_list[0]\n",
    "        movie_info['sub-genre'] = ''\n",
    "    else:\n",
    "        movie_info['GENRE'] = ''\n",
    "        movie_info['sub-genre'] = ''\n",
    "            \n",
    "    # link\n",
    "    movie_info['link'] = url\n",
    "    \n",
    "    return movie_info\n"
   ]
  },
  {
   "cell_type": "code",
   "execution_count": 18,
   "id": "academic-might",
   "metadata": {},
   "outputs": [
    {
     "data": {
      "text/plain": [
       "{'TITLE': 'From Up on Poppy Hill',\n",
       " 'YEAR': 2013,\n",
       " 'EBERT_RATING': 2.5,\n",
       " 'MPAA': 'PG',\n",
       " 'RUNTIME': '91 minutes',\n",
       " 'GENRE': 'Drama',\n",
       " 'sub-genre': ['Animation'],\n",
       " 'link': 'https://www.rogerebert.com/reviews/from-up-on-poppy-hill-2013'}"
      ]
     },
     "execution_count": 18,
     "metadata": {},
     "output_type": "execute_result"
    }
   ],
   "source": [
    "# checking function\n",
    "get_movie_info(\"https://www.rogerebert.com/reviews/from-up-on-poppy-hill-2013\")"
   ]
  },
  {
   "cell_type": "code",
   "execution_count": 19,
   "id": "hidden-stadium",
   "metadata": {},
   "outputs": [],
   "source": [
    "# Scrap movie info for all movies in list of Ebert reviewed films\n",
    "# Save as list of dictionaries\n",
    "movies = soup.find('div', class_=\"columns is-multiline is-mobile js--reviews--target\")\n",
    "movies_list = movies.find_all('h5')\n",
    "\n",
    "base_path = \"https://www.rogerebert.com\"\n",
    "\n",
    "movie_info_list = []\n",
    "for index, movie in enumerate(movies_list):\n",
    "    try: \n",
    "        title = movie.find('a').text\n",
    "        relative_path = movie.find('a')['href']\n",
    "        full_path = base_path + relative_path\n",
    "        \n",
    "        movie_info_list.append(get_movie_info(full_path))\n",
    "        time.sleep(0.5)\n",
    "        \n",
    "    except Exception as e:\n",
    "        print(movie.get_text())\n",
    "        print(e)"
   ]
  },
  {
   "cell_type": "code",
   "execution_count": 20,
   "id": "bibliographic-staff",
   "metadata": {},
   "outputs": [],
   "source": [
    "# Convert list into df\n",
    "ebert_df = pd.DataFrame(movie_info_list)"
   ]
  },
  {
   "cell_type": "code",
   "execution_count": 21,
   "id": "sustained-insert",
   "metadata": {},
   "outputs": [
    {
     "data": {
      "text/html": [
       "<div>\n",
       "<style scoped>\n",
       "    .dataframe tbody tr th:only-of-type {\n",
       "        vertical-align: middle;\n",
       "    }\n",
       "\n",
       "    .dataframe tbody tr th {\n",
       "        vertical-align: top;\n",
       "    }\n",
       "\n",
       "    .dataframe thead th {\n",
       "        text-align: right;\n",
       "    }\n",
       "</style>\n",
       "<table border=\"1\" class=\"dataframe\">\n",
       "  <thead>\n",
       "    <tr style=\"text-align: right;\">\n",
       "      <th></th>\n",
       "      <th>TITLE</th>\n",
       "      <th>YEAR</th>\n",
       "      <th>EBERT_RATING</th>\n",
       "      <th>MPAA</th>\n",
       "      <th>RUNTIME</th>\n",
       "      <th>GENRE</th>\n",
       "      <th>sub-genre</th>\n",
       "      <th>link</th>\n",
       "    </tr>\n",
       "  </thead>\n",
       "  <tbody>\n",
       "    <tr>\n",
       "      <th>0</th>\n",
       "      <td>The Spectacular Now</td>\n",
       "      <td>2013</td>\n",
       "      <td>4.0</td>\n",
       "      <td>R</td>\n",
       "      <td>99 minutes</td>\n",
       "      <td></td>\n",
       "      <td></td>\n",
       "      <td>https://www.rogerebert.com/reviews/the-spectac...</td>\n",
       "    </tr>\n",
       "    <tr>\n",
       "      <th>1</th>\n",
       "      <td>Computer Chess</td>\n",
       "      <td>2013</td>\n",
       "      <td>2.0</td>\n",
       "      <td></td>\n",
       "      <td>91 minutes</td>\n",
       "      <td>Comedy</td>\n",
       "      <td></td>\n",
       "      <td>https://www.rogerebert.com/reviews/computer-ch...</td>\n",
       "    </tr>\n",
       "    <tr>\n",
       "      <th>2</th>\n",
       "      <td>At Any Price</td>\n",
       "      <td>2012</td>\n",
       "      <td>4.0</td>\n",
       "      <td>R</td>\n",
       "      <td>105 minutes</td>\n",
       "      <td>Drama</td>\n",
       "      <td></td>\n",
       "      <td>https://www.rogerebert.com/reviews/at-any-pric...</td>\n",
       "    </tr>\n",
       "    <tr>\n",
       "      <th>3</th>\n",
       "      <td>Blancanieves</td>\n",
       "      <td>2012</td>\n",
       "      <td>4.0</td>\n",
       "      <td>PG-13</td>\n",
       "      <td>104 minutes</td>\n",
       "      <td>Fantasy</td>\n",
       "      <td>[Drama]</td>\n",
       "      <td>https://www.rogerebert.com/reviews/blancanieve...</td>\n",
       "    </tr>\n",
       "    <tr>\n",
       "      <th>4</th>\n",
       "      <td>Deceptive Practice: The Mysteries and Mentors ...</td>\n",
       "      <td>2013</td>\n",
       "      <td>3.0</td>\n",
       "      <td>NR</td>\n",
       "      <td>88 minutes</td>\n",
       "      <td></td>\n",
       "      <td></td>\n",
       "      <td>https://www.rogerebert.com/reviews/deceptive-p...</td>\n",
       "    </tr>\n",
       "    <tr>\n",
       "      <th>...</th>\n",
       "      <td>...</td>\n",
       "      <td>...</td>\n",
       "      <td>...</td>\n",
       "      <td>...</td>\n",
       "      <td>...</td>\n",
       "      <td>...</td>\n",
       "      <td>...</td>\n",
       "      <td>...</td>\n",
       "    </tr>\n",
       "    <tr>\n",
       "      <th>7842</th>\n",
       "      <td>The Game Is Over</td>\n",
       "      <td>1967</td>\n",
       "      <td>2.0</td>\n",
       "      <td></td>\n",
       "      <td></td>\n",
       "      <td>Romance</td>\n",
       "      <td>[Foreign, Drama]</td>\n",
       "      <td>https://www.rogerebert.com/reviews/the-game-is...</td>\n",
       "    </tr>\n",
       "    <tr>\n",
       "      <th>7843</th>\n",
       "      <td>Clouds Over Israel</td>\n",
       "      <td>1967</td>\n",
       "      <td>3.0</td>\n",
       "      <td>NR</td>\n",
       "      <td>85 minutes</td>\n",
       "      <td></td>\n",
       "      <td></td>\n",
       "      <td>https://www.rogerebert.com/reviews/clouds-over...</td>\n",
       "    </tr>\n",
       "    <tr>\n",
       "      <th>7844</th>\n",
       "      <td>In Like Flint</td>\n",
       "      <td>1967</td>\n",
       "      <td>1.5</td>\n",
       "      <td></td>\n",
       "      <td>114 minutes</td>\n",
       "      <td>Comedy</td>\n",
       "      <td>[Adventure, Action]</td>\n",
       "      <td>https://www.rogerebert.com/reviews/in-like-fli...</td>\n",
       "    </tr>\n",
       "    <tr>\n",
       "      <th>7845</th>\n",
       "      <td>Galia</td>\n",
       "      <td>1967</td>\n",
       "      <td>2.5</td>\n",
       "      <td></td>\n",
       "      <td></td>\n",
       "      <td></td>\n",
       "      <td></td>\n",
       "      <td>https://www.rogerebert.com/reviews/galia-1967</td>\n",
       "    </tr>\n",
       "    <tr>\n",
       "      <th>7846</th>\n",
       "      <td>Le Petit Soldat</td>\n",
       "      <td>1960</td>\n",
       "      <td>4.0</td>\n",
       "      <td>PG</td>\n",
       "      <td>88 minutes</td>\n",
       "      <td>War</td>\n",
       "      <td>[Foreign, Drama]</td>\n",
       "      <td>https://www.rogerebert.com/reviews/le-petit-so...</td>\n",
       "    </tr>\n",
       "  </tbody>\n",
       "</table>\n",
       "<p>7847 rows × 8 columns</p>\n",
       "</div>"
      ],
      "text/plain": [
       "                                                  TITLE  YEAR  EBERT_RATING  \\\n",
       "0                                   The Spectacular Now  2013           4.0   \n",
       "1                                        Computer Chess  2013           2.0   \n",
       "2                                          At Any Price  2012           4.0   \n",
       "3                                          Blancanieves  2012           4.0   \n",
       "4     Deceptive Practice: The Mysteries and Mentors ...  2013           3.0   \n",
       "...                                                 ...   ...           ...   \n",
       "7842                                   The Game Is Over  1967           2.0   \n",
       "7843                                 Clouds Over Israel  1967           3.0   \n",
       "7844                                      In Like Flint  1967           1.5   \n",
       "7845                                              Galia  1967           2.5   \n",
       "7846                                    Le Petit Soldat  1960           4.0   \n",
       "\n",
       "       MPAA      RUNTIME    GENRE            sub-genre  \\\n",
       "0         R   99 minutes                                 \n",
       "1             91 minutes   Comedy                        \n",
       "2         R  105 minutes    Drama                        \n",
       "3     PG-13  104 minutes  Fantasy              [Drama]   \n",
       "4        NR   88 minutes                                 \n",
       "...     ...          ...      ...                  ...   \n",
       "7842                      Romance     [Foreign, Drama]   \n",
       "7843     NR   85 minutes                                 \n",
       "7844         114 minutes   Comedy  [Adventure, Action]   \n",
       "7845                                                     \n",
       "7846     PG   88 minutes      War     [Foreign, Drama]   \n",
       "\n",
       "                                                   link  \n",
       "0     https://www.rogerebert.com/reviews/the-spectac...  \n",
       "1     https://www.rogerebert.com/reviews/computer-ch...  \n",
       "2     https://www.rogerebert.com/reviews/at-any-pric...  \n",
       "3     https://www.rogerebert.com/reviews/blancanieve...  \n",
       "4     https://www.rogerebert.com/reviews/deceptive-p...  \n",
       "...                                                 ...  \n",
       "7842  https://www.rogerebert.com/reviews/the-game-is...  \n",
       "7843  https://www.rogerebert.com/reviews/clouds-over...  \n",
       "7844  https://www.rogerebert.com/reviews/in-like-fli...  \n",
       "7845      https://www.rogerebert.com/reviews/galia-1967  \n",
       "7846  https://www.rogerebert.com/reviews/le-petit-so...  \n",
       "\n",
       "[7847 rows x 8 columns]"
      ]
     },
     "execution_count": 21,
     "metadata": {},
     "output_type": "execute_result"
    }
   ],
   "source": [
    "ebert_df"
   ]
  },
  {
   "cell_type": "code",
   "execution_count": 22,
   "id": "funded-wesley",
   "metadata": {},
   "outputs": [],
   "source": [
    "# Saving df to pickle for cleaning\n",
    "ebert_df.to_pickle('./data/ebert_df_not_cleaned.pickle')"
   ]
  },
  {
   "cell_type": "markdown",
   "id": "awful-graphics",
   "metadata": {},
   "source": [
    "# 2. Data Cleaning"
   ]
  },
  {
   "cell_type": "code",
   "execution_count": 2,
   "id": "perceived-intro",
   "metadata": {},
   "outputs": [
    {
     "name": "stdout",
     "output_type": "stream",
     "text": [
      "<class 'pandas.core.frame.DataFrame'>\n",
      "RangeIndex: 7847 entries, 0 to 7846\n",
      "Data columns (total 8 columns):\n",
      " #   Column        Non-Null Count  Dtype  \n",
      "---  ------        --------------  -----  \n",
      " 0   TITLE         7847 non-null   object \n",
      " 1   YEAR          7847 non-null   int64  \n",
      " 2   EBERT_RATING  7847 non-null   float64\n",
      " 3   MPAA          7847 non-null   object \n",
      " 4   RUNTIME       7847 non-null   object \n",
      " 5   GENRE         7847 non-null   object \n",
      " 6   sub-genre     7847 non-null   object \n",
      " 7   link          7847 non-null   object \n",
      "dtypes: float64(1), int64(1), object(6)\n",
      "memory usage: 490.6+ KB\n",
      "None\n"
     ]
    },
    {
     "data": {
      "text/html": [
       "<div>\n",
       "<style scoped>\n",
       "    .dataframe tbody tr th:only-of-type {\n",
       "        vertical-align: middle;\n",
       "    }\n",
       "\n",
       "    .dataframe tbody tr th {\n",
       "        vertical-align: top;\n",
       "    }\n",
       "\n",
       "    .dataframe thead th {\n",
       "        text-align: right;\n",
       "    }\n",
       "</style>\n",
       "<table border=\"1\" class=\"dataframe\">\n",
       "  <thead>\n",
       "    <tr style=\"text-align: right;\">\n",
       "      <th></th>\n",
       "      <th>TITLE</th>\n",
       "      <th>YEAR</th>\n",
       "      <th>EBERT_RATING</th>\n",
       "      <th>MPAA</th>\n",
       "      <th>RUNTIME</th>\n",
       "      <th>GENRE</th>\n",
       "      <th>sub-genre</th>\n",
       "      <th>link</th>\n",
       "    </tr>\n",
       "  </thead>\n",
       "  <tbody>\n",
       "    <tr>\n",
       "      <th>2916</th>\n",
       "      <td>Cherish</td>\n",
       "      <td>2002</td>\n",
       "      <td>3.0</td>\n",
       "      <td>R</td>\n",
       "      <td>100 minutes</td>\n",
       "      <td>Romance</td>\n",
       "      <td>[Drama, Comedy]</td>\n",
       "      <td>https://www.rogerebert.com/reviews/cherish-2002</td>\n",
       "    </tr>\n",
       "    <tr>\n",
       "      <th>996</th>\n",
       "      <td>Cirque du Freak: The Vampire's Assistant</td>\n",
       "      <td>2009</td>\n",
       "      <td>1.5</td>\n",
       "      <td>PG-13</td>\n",
       "      <td>109 minutes</td>\n",
       "      <td>Thriller</td>\n",
       "      <td>[Science Fiction, Horror, Fantasy, Adventure, ...</td>\n",
       "      <td>https://www.rogerebert.com/reviews/cirque-du-f...</td>\n",
       "    </tr>\n",
       "    <tr>\n",
       "      <th>5364</th>\n",
       "      <td>Naked Lunch</td>\n",
       "      <td>1992</td>\n",
       "      <td>2.5</td>\n",
       "      <td>R</td>\n",
       "      <td>115 minutes</td>\n",
       "      <td>Thriller</td>\n",
       "      <td>[Science Fiction, Indie, Fantasy, Drama]</td>\n",
       "      <td>https://www.rogerebert.com/reviews/naked-lunch...</td>\n",
       "    </tr>\n",
       "    <tr>\n",
       "      <th>4566</th>\n",
       "      <td>Wings of Courage</td>\n",
       "      <td>1996</td>\n",
       "      <td>3.0</td>\n",
       "      <td>G</td>\n",
       "      <td>40 minutes</td>\n",
       "      <td></td>\n",
       "      <td></td>\n",
       "      <td>https://www.rogerebert.com/reviews/wings-of-co...</td>\n",
       "    </tr>\n",
       "    <tr>\n",
       "      <th>2680</th>\n",
       "      <td>Phone Booth</td>\n",
       "      <td>2003</td>\n",
       "      <td>3.0</td>\n",
       "      <td>R</td>\n",
       "      <td>81 minutes</td>\n",
       "      <td>Thriller</td>\n",
       "      <td>[Suspense, Drama]</td>\n",
       "      <td>https://www.rogerebert.com/reviews/phone-booth...</td>\n",
       "    </tr>\n",
       "    <tr>\n",
       "      <th>7688</th>\n",
       "      <td>Les Carabiniers</td>\n",
       "      <td>1963</td>\n",
       "      <td>4.0</td>\n",
       "      <td></td>\n",
       "      <td>85 minutes</td>\n",
       "      <td>War</td>\n",
       "      <td>[Foreign, Drama, Comedy]</td>\n",
       "      <td>https://www.rogerebert.com/reviews/les-carabin...</td>\n",
       "    </tr>\n",
       "    <tr>\n",
       "      <th>1645</th>\n",
       "      <td>Talk to Me</td>\n",
       "      <td>2007</td>\n",
       "      <td>3.5</td>\n",
       "      <td>R</td>\n",
       "      <td>118 minutes</td>\n",
       "      <td>Musical</td>\n",
       "      <td>[Drama]</td>\n",
       "      <td>https://www.rogerebert.com/reviews/talk-to-me-...</td>\n",
       "    </tr>\n",
       "    <tr>\n",
       "      <th>5196</th>\n",
       "      <td>Bad Lieutenant</td>\n",
       "      <td>1993</td>\n",
       "      <td>4.0</td>\n",
       "      <td>NC-17</td>\n",
       "      <td>96 minutes</td>\n",
       "      <td>Indie</td>\n",
       "      <td>[Drama]</td>\n",
       "      <td>https://www.rogerebert.com/reviews/bad-lieuten...</td>\n",
       "    </tr>\n",
       "    <tr>\n",
       "      <th>7061</th>\n",
       "      <td>The Middle of the World</td>\n",
       "      <td>1976</td>\n",
       "      <td>3.5</td>\n",
       "      <td></td>\n",
       "      <td></td>\n",
       "      <td>Romance</td>\n",
       "      <td>[Drama]</td>\n",
       "      <td>https://www.rogerebert.com/reviews/the-middle-...</td>\n",
       "    </tr>\n",
       "    <tr>\n",
       "      <th>7230</th>\n",
       "      <td>Battle of the Amazons</td>\n",
       "      <td>1973</td>\n",
       "      <td>1.0</td>\n",
       "      <td>R</td>\n",
       "      <td>90 minutes</td>\n",
       "      <td></td>\n",
       "      <td></td>\n",
       "      <td>https://www.rogerebert.com/reviews/battle-of-t...</td>\n",
       "    </tr>\n",
       "  </tbody>\n",
       "</table>\n",
       "</div>"
      ],
      "text/plain": [
       "                                         TITLE  YEAR  EBERT_RATING   MPAA  \\\n",
       "2916                                   Cherish  2002           3.0      R   \n",
       "996   Cirque du Freak: The Vampire's Assistant  2009           1.5  PG-13   \n",
       "5364                               Naked Lunch  1992           2.5      R   \n",
       "4566                          Wings of Courage  1996           3.0      G   \n",
       "2680                               Phone Booth  2003           3.0      R   \n",
       "7688                           Les Carabiniers  1963           4.0          \n",
       "1645                                Talk to Me  2007           3.5      R   \n",
       "5196                            Bad Lieutenant  1993           4.0  NC-17   \n",
       "7061                   The Middle of the World  1976           3.5          \n",
       "7230                     Battle of the Amazons  1973           1.0      R   \n",
       "\n",
       "          RUNTIME     GENRE  \\\n",
       "2916  100 minutes   Romance   \n",
       "996   109 minutes  Thriller   \n",
       "5364  115 minutes  Thriller   \n",
       "4566   40 minutes             \n",
       "2680   81 minutes  Thriller   \n",
       "7688   85 minutes       War   \n",
       "1645  118 minutes   Musical   \n",
       "5196   96 minutes     Indie   \n",
       "7061                Romance   \n",
       "7230   90 minutes             \n",
       "\n",
       "                                              sub-genre  \\\n",
       "2916                                    [Drama, Comedy]   \n",
       "996   [Science Fiction, Horror, Fantasy, Adventure, ...   \n",
       "5364           [Science Fiction, Indie, Fantasy, Drama]   \n",
       "4566                                                      \n",
       "2680                                  [Suspense, Drama]   \n",
       "7688                           [Foreign, Drama, Comedy]   \n",
       "1645                                            [Drama]   \n",
       "5196                                            [Drama]   \n",
       "7061                                            [Drama]   \n",
       "7230                                                      \n",
       "\n",
       "                                                   link  \n",
       "2916    https://www.rogerebert.com/reviews/cherish-2002  \n",
       "996   https://www.rogerebert.com/reviews/cirque-du-f...  \n",
       "5364  https://www.rogerebert.com/reviews/naked-lunch...  \n",
       "4566  https://www.rogerebert.com/reviews/wings-of-co...  \n",
       "2680  https://www.rogerebert.com/reviews/phone-booth...  \n",
       "7688  https://www.rogerebert.com/reviews/les-carabin...  \n",
       "1645  https://www.rogerebert.com/reviews/talk-to-me-...  \n",
       "5196  https://www.rogerebert.com/reviews/bad-lieuten...  \n",
       "7061  https://www.rogerebert.com/reviews/the-middle-...  \n",
       "7230  https://www.rogerebert.com/reviews/battle-of-t...  "
      ]
     },
     "execution_count": 2,
     "metadata": {},
     "output_type": "execute_result"
    }
   ],
   "source": [
    "# Loading the data and doing some EDA and data cleaning\n",
    "df = pd.read_pickle('./data/ebert_df_not_cleaned.pickle')\n",
    "print(df.info())\n",
    "df.sample(10)"
   ]
  },
  {
   "cell_type": "code",
   "execution_count": 3,
   "id": "eastern-candidate",
   "metadata": {},
   "outputs": [
    {
     "data": {
      "text/plain": [
       "2012    312\n",
       "2011    285\n",
       "2005    284\n",
       "2009    282\n",
       "2002    273\n",
       "       ... \n",
       "1926      1\n",
       "1924      1\n",
       "2020      1\n",
       "1932      1\n",
       "1914      1\n",
       "Name: YEAR, Length: 96, dtype: int64"
      ]
     },
     "execution_count": 3,
     "metadata": {},
     "output_type": "execute_result"
    }
   ],
   "source": [
    "df.YEAR.value_counts()"
   ]
  },
  {
   "cell_type": "code",
   "execution_count": 4,
   "id": "concrete-lightweight",
   "metadata": {},
   "outputs": [
    {
     "data": {
      "text/plain": [
       "3.0    2348\n",
       "3.5    1257\n",
       "2.0    1231\n",
       "4.0    1178\n",
       "2.5     858\n",
       "1.5     417\n",
       "1.0     384\n",
       "0.5      89\n",
       "0.0      85\n",
       "Name: EBERT_RATING, dtype: int64"
      ]
     },
     "execution_count": 4,
     "metadata": {},
     "output_type": "execute_result"
    }
   ],
   "source": [
    "df.EBERT_RATING.value_counts()"
   ]
  },
  {
   "cell_type": "code",
   "execution_count": 5,
   "id": "entire-connection",
   "metadata": {},
   "outputs": [
    {
     "data": {
      "text/plain": [
       "R                 3002\n",
       "PG-13             1549\n",
       "PG                1169\n",
       "NR                1009\n",
       "                   757\n",
       "G                  218\n",
       "Unrated             45\n",
       "NC-17               25\n",
       "X                   16\n",
       "No rating           14\n",
       "No MPAA rating      14\n",
       "Not rated           12\n",
       "No MPAA Rating       6\n",
       "TV                   2\n",
       ": R                  2\n",
       "PG13                 1\n",
       "PG- 13               1\n",
       "R,                   1\n",
       "GP                   1\n",
       ".                    1\n",
       "PG-13&#8206;         1\n",
       "g PG-13              1\n",
       "Name: MPAA, dtype: int64"
      ]
     },
     "execution_count": 5,
     "metadata": {},
     "output_type": "execute_result"
    }
   ],
   "source": [
    "df.MPAA.value_counts()"
   ]
  },
  {
   "cell_type": "code",
   "execution_count": 6,
   "id": "civic-questionnaire",
   "metadata": {},
   "outputs": [
    {
     "data": {
      "text/plain": [
       "Thriller           1684\n",
       "Romance            1397\n",
       "                    851\n",
       "Drama               674\n",
       "Foreign             498\n",
       "Science Fiction     466\n",
       "Indie               428\n",
       "Comedy              321\n",
       "Family              272\n",
       "Documentary         237\n",
       "Music               132\n",
       "War                 118\n",
       "Western             117\n",
       "History             116\n",
       "Sports Film         106\n",
       "Horror              104\n",
       "Musical              72\n",
       "Mystery              51\n",
       "Fantasy              46\n",
       "Crime                43\n",
       "Sport                33\n",
       "Holiday              19\n",
       "Action               13\n",
       "Adventure            12\n",
       "Road Movie           10\n",
       "Animation             7\n",
       "Erotic                6\n",
       "Film Noir             4\n",
       "Suspense              3\n",
       "Disaster              2\n",
       "Eastern               2\n",
       "Neo-noir              2\n",
       "Short                 1\n",
       "Name: GENRE, dtype: int64"
      ]
     },
     "execution_count": 6,
     "metadata": {},
     "output_type": "execute_result"
    }
   ],
   "source": [
    "df.GENRE.value_counts()"
   ]
  },
  {
   "cell_type": "code",
   "execution_count": 7,
   "id": "pacific-instrumentation",
   "metadata": {},
   "outputs": [
    {
     "ename": "TypeError",
     "evalue": "unhashable type: 'list'",
     "output_type": "error",
     "traceback": [
      "\u001b[0;31m---------------------------------------------------------------------------\u001b[0m",
      "\u001b[0;31mTypeError\u001b[0m                                 Traceback (most recent call last)",
      "\u001b[0;32mpandas/_libs/hashtable_class_helper.pxi\u001b[0m in \u001b[0;36mpandas._libs.hashtable.PyObjectHashTable.map_locations\u001b[0;34m()\u001b[0m\n",
      "\u001b[0;31mTypeError\u001b[0m: unhashable type: 'list'"
     ]
    },
    {
     "name": "stderr",
     "output_type": "stream",
     "text": [
      "Exception ignored in: 'pandas._libs.index.IndexEngine._call_map_locations'\n",
      "Traceback (most recent call last):\n",
      "  File \"pandas/_libs/hashtable_class_helper.pxi\", line 4588, in pandas._libs.hashtable.PyObjectHashTable.map_locations\n",
      "TypeError: unhashable type: 'list'\n"
     ]
    },
    {
     "data": {
      "text/plain": [
       "                                                          1767\n",
       "[Drama]                                                    789\n",
       "[Comedy]                                                   581\n",
       "[Drama, Comedy]                                            465\n",
       "[Foreign, Drama]                                           318\n",
       "                                                          ... \n",
       "[Science Fiction, Fantasy, Crime, Adventure, Action]         1\n",
       "[Suspense, Foreign, Action]                                  1\n",
       "[Indie, Drama, Adventure]                                    1\n",
       "[Science Fiction, Fantasy, Drama, Action]                    1\n",
       "[Thriller, Mystery, History, Drama, Adventure, Action]       1\n",
       "Name: sub-genre, Length: 736, dtype: int64"
      ]
     },
     "execution_count": 7,
     "metadata": {},
     "output_type": "execute_result"
    }
   ],
   "source": [
    "df['sub-genre'].value_counts()"
   ]
  },
  {
   "cell_type": "markdown",
   "id": "divided-accessory",
   "metadata": {},
   "source": [
    "## Problems\n",
    "1. Duplicated movie reviews\n",
    "    - drop duplicates\n",
    "2. There are blank spaces/empty strings in the dataframe. Possible ways to handle:\n",
    "    1. remove rows\n",
    "    2. fillna with a value\n",
    "3. Random character values or space in `GENRE` and `MPAA` columns\n",
    "    - replace characters and space with NaN (regex)\n",
    "    - replace inconsistent MPAA rating with correct rating\n",
    "4. `sub-genre` column is in list form and has NaN values\n",
    "    - list comprehension to take out just the first item in the list\n",
    "    - set NaN to N"
   ]
  },
  {
   "cell_type": "code",
   "execution_count": 8,
   "id": "incoming-scheduling",
   "metadata": {},
   "outputs": [
    {
     "name": "stdout",
     "output_type": "stream",
     "text": [
      "before drop duplicates:  (7847, 8)\n",
      "after drop duplicates:  (7694, 8)\n"
     ]
    }
   ],
   "source": [
    "# drop duplicates\n",
    "print(\"before drop duplicates: \", df.shape)\n",
    "df = df.drop_duplicates(subset=['TITLE', 'YEAR', 'EBERT_RATING', 'RUNTIME'])\n",
    "print(\"after drop duplicates: \", df.shape)"
   ]
  },
  {
   "cell_type": "code",
   "execution_count": 9,
   "id": "effective-philosophy",
   "metadata": {},
   "outputs": [],
   "source": [
    "# replacing random character values with NaN\n",
    "df.replace(r'^\\s*$', np.nan, regex=True, inplace=True)"
   ]
  },
  {
   "cell_type": "code",
   "execution_count": 10,
   "id": "limiting-agreement",
   "metadata": {},
   "outputs": [],
   "source": [
    "# filling NaN with NR\n",
    "df['MPAA'].fillna('NR', inplace=True)\n",
    "# replacing some rating to correct terms\n",
    "df['MPAA'].replace('Unrated', 'NR', inplace=True)\n",
    "df['MPAA'].replace('No MPAA rating', 'NR', inplace=True)\n",
    "df['MPAA'].replace('No rating', 'NR', inplace=True)\n",
    "df['MPAA'].replace('Not rated', 'NR', inplace=True)\n",
    "df['MPAA'].replace('No MPAA Rating', 'NR', inplace=True)\n",
    "df['MPAA'].replace('.', 'NR', inplace=True)\n",
    "df['MPAA'].replace('TV', 'NR', inplace=True)\n",
    "df['MPAA'].replace('X', 'NC-17', inplace=True)\n",
    "df['MPAA'].replace(': R', 'R', inplace=True)\n",
    "df['MPAA'].replace('R,', 'R', inplace=True)\n",
    "df['MPAA'].replace('g PG-13', 'PG-13', inplace=True)\n",
    "df['MPAA'].replace('PG-13&#8206;', 'PG-13', inplace=True)\n",
    "df['MPAA'].replace('PG13', 'PG-13', inplace=True)\n",
    "df['MPAA'].replace('PG- 13', 'PG-13', inplace=True)\n",
    "df['MPAA'].replace('GP', 'PG', inplace=True)"
   ]
  },
  {
   "cell_type": "code",
   "execution_count": 11,
   "id": "reverse-universe",
   "metadata": {},
   "outputs": [
    {
     "data": {
      "text/plain": [
       "R        2949\n",
       "NR       1826\n",
       "PG-13    1517\n",
       "PG       1147\n",
       "G         216\n",
       "NC-17      39\n",
       "Name: MPAA, dtype: int64"
      ]
     },
     "execution_count": 11,
     "metadata": {},
     "output_type": "execute_result"
    }
   ],
   "source": [
    "# Sanity check\n",
    "df.MPAA.value_counts()"
   ]
  },
  {
   "cell_type": "code",
   "execution_count": 12,
   "id": "continuing-desperate",
   "metadata": {},
   "outputs": [],
   "source": [
    "# sub-genre column check\n",
    "df['sub-genre'].fillna('No', inplace=True)\n",
    "df['sub-genre'] = [x[0] for x in df['sub-genre']]"
   ]
  },
  {
   "cell_type": "code",
   "execution_count": 13,
   "id": "front-drain",
   "metadata": {},
   "outputs": [
    {
     "data": {
      "text/plain": [
       "TITLE             0\n",
       "YEAR              0\n",
       "EBERT_RATING      0\n",
       "MPAA              0\n",
       "RUNTIME         418\n",
       "GENRE           829\n",
       "sub-genre         0\n",
       "link              0\n",
       "dtype: int64"
      ]
     },
     "execution_count": 13,
     "metadata": {},
     "output_type": "execute_result"
    }
   ],
   "source": [
    "# Sanity check\n",
    "df.isna().sum()"
   ]
  },
  {
   "cell_type": "code",
   "execution_count": 14,
   "id": "charitable-wiring",
   "metadata": {},
   "outputs": [],
   "source": [
    "# Some movies don't have runtime and genre or both. It would be hard to scrap those separately.\n",
    "# Dropping these rows\n",
    "df.dropna(subset=['RUNTIME','GENRE'], how='any', inplace=True)"
   ]
  },
  {
   "cell_type": "code",
   "execution_count": 15,
   "id": "operational-milton",
   "metadata": {},
   "outputs": [
    {
     "name": "stdout",
     "output_type": "stream",
     "text": [
      "<class 'pandas.core.frame.DataFrame'>\n",
      "RangeIndex: 6757 entries, 0 to 6756\n",
      "Data columns (total 8 columns):\n",
      " #   Column        Non-Null Count  Dtype  \n",
      "---  ------        --------------  -----  \n",
      " 0   TITLE         6757 non-null   object \n",
      " 1   YEAR          6757 non-null   int64  \n",
      " 2   EBERT_RATING  6757 non-null   float64\n",
      " 3   MPAA          6757 non-null   object \n",
      " 4   RUNTIME       6757 non-null   object \n",
      " 5   GENRE         6757 non-null   object \n",
      " 6   sub-genre     6757 non-null   object \n",
      " 7   link          6757 non-null   object \n",
      "dtypes: float64(1), int64(1), object(6)\n",
      "memory usage: 422.4+ KB\n"
     ]
    }
   ],
   "source": [
    "df.reset_index(drop=True, inplace=True)\n",
    "df.info()"
   ]
  },
  {
   "cell_type": "code",
   "execution_count": 16,
   "id": "raising-prior",
   "metadata": {},
   "outputs": [],
   "source": [
    "# saving df to pickle\n",
    "df.to_pickle(\"./data/ebert_df_cleaned.pickle\")"
   ]
  },
  {
   "cell_type": "code",
   "execution_count": null,
   "id": "innocent-timing",
   "metadata": {},
   "outputs": [],
   "source": []
  }
 ],
 "metadata": {
  "kernelspec": {
   "display_name": "Python [conda env:metis] *",
   "language": "python",
   "name": "conda-env-metis-py"
  },
  "language_info": {
   "codemirror_mode": {
    "name": "ipython",
    "version": 3
   },
   "file_extension": ".py",
   "mimetype": "text/x-python",
   "name": "python",
   "nbconvert_exporter": "python",
   "pygments_lexer": "ipython3",
   "version": "3.8.8"
  }
 },
 "nbformat": 4,
 "nbformat_minor": 5
}
